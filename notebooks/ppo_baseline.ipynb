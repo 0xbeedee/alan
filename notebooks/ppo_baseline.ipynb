{
 "cells": [
  {
   "cell_type": "markdown",
   "metadata": {},
   "source": [
    "# A naive approach: let's try PPO"
   ]
  },
  {
   "cell_type": "code",
   "execution_count": 1,
   "metadata": {},
   "outputs": [],
   "source": [
    "import tianshou as ts \n",
    "from tianshou.utils import TensorboardLogger\n",
    "\n",
    "import torch\n",
    "from torch.utils.tensorboard import SummaryWriter\n",
    "\n",
    "\n",
    "import os\n",
    "\n",
    "from environments import Resetting\n",
    "from networks import SimpleNetHackActor, SimpleNetHackCritic, NetHackObsNet\n",
    "\n",
    "from nle.env.tasks import *"
   ]
  },
  {
   "cell_type": "markdown",
   "metadata": {},
   "source": [
    "## Setup"
   ]
  },
  {
   "cell_type": "code",
   "execution_count": 2,
   "metadata": {},
   "outputs": [],
   "source": [
    "env = Resetting(NetHackGold())"
   ]
  },
  {
   "cell_type": "code",
   "execution_count": 3,
   "metadata": {},
   "outputs": [],
   "source": [
    "num_train_envs = 5\n",
    "num_test_envs = 5\n",
    "\n",
    "train_envs = ts.env.DummyVectorEnv([lambda: env for _ in range(num_train_envs)])\n",
    "test_envs = ts.env.DummyVectorEnv([lambda: env for _ in range(num_test_envs)])"
   ]
  },
  {
   "cell_type": "code",
   "execution_count": 4,
   "metadata": {},
   "outputs": [],
   "source": [
    "obs_net = NetHackObsNet(env.observation_space)\n",
    "actor_net = SimpleNetHackActor(obs_net, env.action_space)\n",
    "critic_net = SimpleNetHackCritic(obs_net)"
   ]
  },
  {
   "cell_type": "code",
   "execution_count": 5,
   "metadata": {},
   "outputs": [],
   "source": [
    "# using a single optimizer for actor and critic simplifies the training loop and is more computationally efficient\n",
    "# BUT gradient updates in one network will influence the gradient updates in the other, and this might create unexpected problems...\n",
    "combined_params = set(list(actor_net.parameters()) + list(critic_net.parameters()))\n",
    "optimizer = torch.optim.Adam(combined_params, lr=3e-4)"
   ]
  },
  {
   "cell_type": "markdown",
   "metadata": {},
   "source": [
    "## PPO"
   ]
  },
  {
   "cell_type": "code",
   "execution_count": 6,
   "metadata": {},
   "outputs": [],
   "source": [
    "def dist_fn(logits: torch.Tensor):\n",
    "    return torch.distributions.Categorical(logits=logits)\n",
    "\n",
    "policy = ts.policy.PPOPolicy(\n",
    "    actor=actor_net, \n",
    "    critic=critic_net, \n",
    "    optim=optimizer,\n",
    "    dist_fn=dist_fn,\n",
    "    action_space=env.action_space,\n",
    "    action_scaling=False,\n",
    ")"
   ]
  },
  {
   "cell_type": "code",
   "execution_count": 7,
   "metadata": {},
   "outputs": [],
   "source": [
    "train_collector = ts.data.Collector(policy, train_envs, ts.data.VectorReplayBuffer(2000, num_train_envs))\n",
    "\n",
    "test_collector = ts.data.Collector(policy, test_envs)"
   ]
  },
  {
   "cell_type": "code",
   "execution_count": 8,
   "metadata": {},
   "outputs": [],
   "source": [
    "num_epochs = 5\n",
    "num_steps_per_epoch = 1000\n",
    "\n",
    "step_per_collect = 10\n",
    "episode_per_test = 6\n",
    "batch_size = 10\n",
    "\n",
    "log_path = os.path.join(\"../logs\", \"ppo\")\n",
    "writer = SummaryWriter(log_path)\n",
    "logger = TensorboardLogger(writer)"
   ]
  },
  {
   "cell_type": "code",
   "execution_count": 9,
   "metadata": {},
   "outputs": [],
   "source": [
    "trainer = ts.trainer.OnpolicyTrainer(\n",
    "    policy=policy, \n",
    "    train_collector=train_collector, \n",
    "    test_collector=test_collector,\n",
    "    repeat_per_collect=1,\n",
    "    max_epoch=num_epochs,\n",
    "    step_per_epoch=num_steps_per_epoch,\n",
    "    step_per_collect=step_per_collect,\n",
    "    episode_per_test=episode_per_test,\n",
    "    batch_size=batch_size,\n",
    "    logger=logger,\n",
    ")"
   ]
  },
  {
   "cell_type": "code",
   "execution_count": 10,
   "metadata": {},
   "outputs": [
    {
     "name": "stderr",
     "output_type": "stream",
     "text": [
      "Epoch #1: 1001it [00:12, 78.85it/s, env_step=1000, gradient_step=100, len=0, n/ep=0, n/st=10, rew=0.00]                          \n"
     ]
    },
    {
     "name": "stdout",
     "output_type": "stream",
     "text": [
      "Epoch #1: test_reward: -2.931679 ± 2.327637, best_reward: -2.931679 ± 2.327637 in #1\n"
     ]
    },
    {
     "name": "stderr",
     "output_type": "stream",
     "text": [
      "Epoch #2: 1001it [00:14, 71.07it/s, env_step=2000, gradient_step=200, len=0, n/ep=0, n/st=10, rew=0.00]                          \n"
     ]
    },
    {
     "name": "stdout",
     "output_type": "stream",
     "text": [
      "Epoch #2: test_reward: -2.898345 ± 2.343906, best_reward: -2.898345 ± 2.343906 in #2\n"
     ]
    },
    {
     "name": "stderr",
     "output_type": "stream",
     "text": [
      "Epoch #3: 1001it [00:12, 80.73it/s, env_step=3000, gradient_step=300, len=0, n/ep=0, n/st=10, rew=0.00]                          \n"
     ]
    },
    {
     "name": "stdout",
     "output_type": "stream",
     "text": [
      "Epoch #3: test_reward: -3.365018 ± 2.612935, best_reward: -2.898345 ± 2.343906 in #2\n"
     ]
    },
    {
     "name": "stderr",
     "output_type": "stream",
     "text": [
      "Epoch #4: 1001it [00:13, 73.30it/s, env_step=4000, gradient_step=400, len=0, n/ep=0, n/st=10, rew=0.00]                          \n"
     ]
    },
    {
     "name": "stdout",
     "output_type": "stream",
     "text": [
      "Epoch #4: test_reward: -3.446687 ± 2.733425, best_reward: -2.898345 ± 2.343906 in #2\n"
     ]
    },
    {
     "name": "stderr",
     "output_type": "stream",
     "text": [
      "Epoch #5: 1001it [00:12, 82.47it/s, env_step=5000, gradient_step=500, len=0, n/ep=0, n/st=10, rew=0.00]                          \n"
     ]
    },
    {
     "name": "stdout",
     "output_type": "stream",
     "text": [
      "Epoch #5: test_reward: -2.871670 ± 1.614332, best_reward: -2.871670 ± 1.614332 in #5\n"
     ]
    }
   ],
   "source": [
    "epoch_stats = []\n",
    "for epoch_stat in trainer:\n",
    "    epoch_stats.append(epoch_stat)"
   ]
  },
  {
   "cell_type": "code",
   "execution_count": 12,
   "metadata": {},
   "outputs": [
    {
     "data": {
      "text/plain": [
       "[EpochStats(epoch=1, train_collect_stat=CollectStats(n_collected_episodes=0, n_collected_steps=10, collect_time=0.02412104606628418, collect_speed=414.575718338259, returns=array([], dtype=float64), returns_stat=None, lens=array([], dtype=int64), lens_stat=None), test_collect_stat=CollectStats(n_collected_episodes=6, n_collected_steps=7060, collect_time=24.492645740509033, collect_speed=288.24979035740836, returns=array([-0.65999967, -0.7499996 , -2.2399983 , -2.3799982 , -4.109999  ,\n",
       "        -7.4500756 ], dtype=float32), returns_stat=SequenceSummaryStats(mean=-2.931678533554077, std=2.3276374340057373, max=-0.659999668598175, min=-7.450075626373291), lens=array([ 274,  274,  872,  971, 1645, 3024]), lens_stat=SequenceSummaryStats(mean=1176.6666666666667, std=948.39437413393, max=3024.0, min=274.0)), training_stat=PPOTrainingStats(train_time=0.10226130485534668, smoothed_loss={'loss': -0.005536845440346951, 'clip_loss': 3.2857062004509886e-09, 'vf_loss': 0.00011184314902493498, 'ent_loss': 0.5592770350130339}, loss=SequenceSummaryStats(mean=2.2677104425383732e-05, std=0.0, max=2.2677104425383732e-05, min=2.2677104425383732e-05), clip_loss=SequenceSummaryStats(mean=2.3841858265427618e-08, std=0.0, max=2.3841858265427618e-08, min=2.3841858265427618e-08), vf_loss=SequenceSummaryStats(mean=4.530652586254291e-05, std=0.0, max=4.530652586254291e-05, min=4.530652586254291e-05), ent_loss=SequenceSummaryStats(mean=9.774174364583779e-24, std=0.0, max=9.774174364583779e-24, min=9.774174364583779e-24)), info_stat=InfoStats(gradient_step=100, best_reward=-2.931678533554077, best_reward_std=2.3276374340057373, train_step=1000, train_episode=0, test_step=17758, test_episode=12, timing=TimingStats(total_time=72.75049090385437, train_time=13.01911997795105, train_time_collect=2.7042236328125, train_time_update=9.830683469772339, test_time=59.73137092590332, update_speed=76.81010711120123))),\n",
       " EpochStats(epoch=2, train_collect_stat=CollectStats(n_collected_episodes=0, n_collected_steps=10, collect_time=0.025085926055908203, collect_speed=398.629892223764, returns=array([], dtype=float64), returns_stat=None, lens=array([], dtype=int64), lens_stat=None), test_collect_stat=CollectStats(n_collected_episodes=6, n_collected_steps=7108, collect_time=27.201356887817383, collect_speed=261.3104937858246, returns=array([-0.6299997 , -0.69999963, -2.0799985 , -2.4499981 , -4.0799985 ,\n",
       "        -7.4500756 ], dtype=float32), returns_stat=SequenceSummaryStats(mean=-2.8983449935913086, std=2.3439061641693115, max=-0.6299996972084045, min=-7.450075626373291), lens=array([ 255,  272,  855,  991, 1677, 3058]), lens_stat=SequenceSummaryStats(mean=1184.6666666666667, std=965.6774248624066, max=3058.0, min=255.0)), training_stat=PPOTrainingStats(train_time=0.09446573257446289, smoothed_loss={'loss': 2.2803503152317718e-05, 'clip_loss': -6.7092479549835104e-09, 'vf_loss': 4.562042468023719e-05, 'ent_loss': 2.725245321051415e-22}, loss=SequenceSummaryStats(mean=7.405802989524091e-06, std=0.0, max=7.405802989524091e-06, min=7.405802989524091e-06), clip_loss=SequenceSummaryStats(mean=2.9802322387695312e-08, std=0.0, max=2.9802322387695312e-08, min=2.9802322387695312e-08), vf_loss=SequenceSummaryStats(mean=1.475200133427279e-05, std=0.0, max=1.475200133427279e-05, min=1.475200133427279e-05), ent_loss=SequenceSummaryStats(mean=2.2476549038725806e-21, std=0.0, max=2.2476549038725806e-21, min=2.2476549038725806e-21)), info_stat=InfoStats(gradient_step=200, best_reward=-2.8983449935913086, best_reward_std=2.3439061641693115, train_step=2000, train_episode=0, test_step=24866, test_episode=18, timing=TimingStats(total_time=114.08054304122925, train_time=27.147815227508545, train_time_collect=5.607359170913696, train_time_update=20.820292472839355, test_time=86.9327278137207, update_speed=73.6707533641022))),\n",
       " EpochStats(epoch=3, train_collect_stat=CollectStats(n_collected_episodes=0, n_collected_steps=10, collect_time=0.024197101593017578, collect_speed=413.2726376982954, returns=array([], dtype=float64), returns_stat=None, lens=array([], dtype=int64), lens_stat=None), test_collect_stat=CollectStats(n_collected_episodes=6, n_collected_steps=7985, collect_time=27.474091053009033, collect_speed=290.6374585639099, returns=array([-0.66999966, -1.2399992 , -2.1699984 , -2.7899978 , -4.970019  ,\n",
       "        -8.350096  ], dtype=float32), returns_stat=SequenceSummaryStats(mean=-3.365018129348755, std=2.6129350662231445, max=-0.6699996590614319, min=-8.350095748901367), lens=array([ 273,  554,  879, 1055, 1957, 3267]), lens_stat=SequenceSummaryStats(mean=1330.8333333333333, std=1011.8913671382363, max=3267.0, min=273.0)), training_stat=PPOTrainingStats(train_time=0.09116196632385254, smoothed_loss={'loss': 2.4741056308812403e-05, 'clip_loss': 1.19190660730073e-08, 'vf_loss': 4.9458274461358087e-05, 'ent_loss': 2.7715655170573652e-17}, loss=SequenceSummaryStats(mean=1.2153229363320861e-05, std=0.0, max=1.2153229363320861e-05, min=1.2153229363320861e-05), clip_loss=SequenceSummaryStats(mean=5.9604645663569045e-09, std=0.0, max=5.9604645663569045e-09, min=5.9604645663569045e-09), vf_loss=SequenceSummaryStats(mean=2.4294537070090882e-05, std=0.0, max=2.4294537070090882e-05, min=2.4294537070090882e-05), ent_loss=SequenceSummaryStats(mean=1.1584344194471972e-16, std=0.0, max=1.1584344194471972e-16, min=1.1584344194471972e-16)), info_stat=InfoStats(gradient_step=300, best_reward=-2.8983449935913086, best_reward_std=2.3439061641693115, train_step=3000, train_episode=0, test_step=32851, test_episode=24, timing=TimingStats(total_time=153.9960379600525, train_time=39.589219093322754, train_time_collect=8.22223687171936, train_time_update=30.447739601135254, test_time=114.40681886672974, update_speed=75.77820600421971))),\n",
       " EpochStats(epoch=4, train_collect_stat=CollectStats(n_collected_episodes=0, n_collected_steps=10, collect_time=0.02659296989440918, collect_speed=376.039232914048, returns=array([], dtype=float64), returns_stat=None, lens=array([], dtype=int64), lens_stat=None), test_collect_stat=CollectStats(n_collected_episodes=6, n_collected_steps=8197, collect_time=29.855830907821655, collect_speed=274.5527339469404, returns=array([-0.5099998, -1.369999 , -2.2799983, -2.659998 , -5.2500253,\n",
       "        -8.610102 ], dtype=float32), returns_stat=SequenceSummaryStats(mean=-3.4466869831085205, std=2.7334253787994385, max=-0.5099998116493225, min=-8.610101699829102), lens=array([ 273,  548,  894, 1072, 2031, 3379]), lens_stat=SequenceSummaryStats(mean=1366.1666666666667, std=1054.1494860260043, max=3379.0, min=273.0)), training_stat=PPOTrainingStats(train_time=0.10443902015686035, smoothed_loss={'loss': 1.7535578301703935e-05, 'clip_loss': 6.986782077333942e-09, 'vf_loss': 3.5057182899436156e-05, 'ent_loss': 3.2242646936621286e-15}, loss=SequenceSummaryStats(mean=1.2864652489952277e-05, std=0.0, max=1.2864652489952277e-05, min=1.2864652489952277e-05), clip_loss=SequenceSummaryStats(mean=0.0, std=0.0, max=-0.0, min=-0.0), vf_loss=SequenceSummaryStats(mean=2.5729304979904555e-05, std=0.0, max=2.5729304979904555e-05, min=2.5729304979904555e-05), ent_loss=SequenceSummaryStats(mean=2.624589185307863e-14, std=0.0, max=2.624589185307863e-14, min=2.624589185307863e-14)), info_stat=InfoStats(gradient_step=400, best_reward=-2.8983449935913086, best_reward_std=2.3439061641693115, train_step=4000, train_episode=0, test_step=41048, test_episode=30, timing=TimingStats(total_time=197.55093097686768, train_time=53.288281202316284, train_time_collect=11.036769390106201, train_time_update=41.12101888656616, test_time=144.2626497745514, update_speed=75.0634081218242))),\n",
       " EpochStats(epoch=5, train_collect_stat=CollectStats(n_collected_episodes=0, n_collected_steps=10, collect_time=0.026219844818115234, collect_speed=381.39051048429627, returns=array([], dtype=float64), returns_stat=None, lens=array([], dtype=int64), lens_stat=None), test_collect_stat=CollectStats(n_collected_episodes=6, n_collected_steps=6917, collect_time=22.50346302986145, collect_speed=307.3749133998327, returns=array([-0.6499997, -1.3299991, -2.2399983, -3.589997 , -4.14     ,\n",
       "        -5.280026 ], dtype=float32), returns_stat=SequenceSummaryStats(mean=-2.8716700077056885, std=1.6143321990966797, max=-0.6499996781349182, min=-5.280025959014893), lens=array([ 271,  548,  895, 1349, 1750, 2104]), lens_stat=SequenceSummaryStats(mean=1152.8333333333333, std=646.7532802820219, max=2104.0, min=271.0)), training_stat=PPOTrainingStats(train_time=0.09338712692260742, smoothed_loss={'loss': 1.4708357116433036e-05, 'clip_loss': -1.9078143065343058e-09, 'vf_loss': 2.942052986327326e-05, 'ent_loss': 3.186456146888456e-13}, loss=SequenceSummaryStats(mean=1.2238550880283583e-05, std=0.0, max=1.2238550880283583e-05, min=1.2238550880283583e-05), clip_loss=SequenceSummaryStats(mean=-1.1920929132713809e-08, std=0.0, max=-1.1920929132713809e-08, min=-1.1920929132713809e-08), vf_loss=SequenceSummaryStats(mean=2.450094325467944e-05, std=0.0, max=2.450094325467944e-05, min=2.450094325467944e-05), ent_loss=SequenceSummaryStats(mean=8.190541886214653e-13, std=0.0, max=8.190541886214653e-13, min=8.190541886214653e-13)), info_stat=InfoStats(gradient_step=500, best_reward=-2.8716700077056885, best_reward_std=1.6143321990966797, train_step=5000, train_episode=0, test_step=47965, test_episode=36, timing=TimingStats(total_time=232.23271203041077, train_time=65.46659922599792, train_time_collect=13.616416692733765, train_time_update=50.531978607177734, test_time=166.76611280441284, update_speed=76.37482409525273)))]"
      ]
     },
     "execution_count": 12,
     "metadata": {},
     "output_type": "execute_result"
    }
   ],
   "source": [
    "epoch_stats"
   ]
  },
  {
   "cell_type": "code",
   "execution_count": null,
   "metadata": {},
   "outputs": [],
   "source": []
  }
 ],
 "metadata": {
  "kernelspec": {
   "display_name": "alan",
   "language": "python",
   "name": "python3"
  },
  "language_info": {
   "codemirror_mode": {
    "name": "ipython",
    "version": 3
   },
   "file_extension": ".py",
   "mimetype": "text/x-python",
   "name": "python",
   "nbconvert_exporter": "python",
   "pygments_lexer": "ipython3",
   "version": "3.12.6"
  }
 },
 "nbformat": 4,
 "nbformat_minor": 2
}
